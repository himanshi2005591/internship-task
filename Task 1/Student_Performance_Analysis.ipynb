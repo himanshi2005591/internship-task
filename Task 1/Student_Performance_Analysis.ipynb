{
 "cells": [
  {
   "cell_type": "markdown",
   "id": "af4def7c",
   "metadata": {},
   "source": [
    "# Student Performance Analysis\n",
    "**Objective:** Analyze student exam scores and identify trends using Python and basic data science techniques."
   ]
  },
  {
   "cell_type": "code",
   "execution_count": 1,
   "id": "eef49c92",
   "metadata": {},
   "outputs": [],
   "source": [
    "import pandas as pd\n",
    "import numpy as np\n",
    "import matplotlib.pyplot as plt\n",
    "import seaborn as sns\n"
   ]
  },
  {
   "cell_type": "code",
   "execution_count": 2,
   "id": "88aa29e6",
   "metadata": {},
   "outputs": [
    {
     "data": {
      "text/html": [
       "<div>\n",
       "<style scoped>\n",
       "    .dataframe tbody tr th:only-of-type {\n",
       "        vertical-align: middle;\n",
       "    }\n",
       "\n",
       "    .dataframe tbody tr th {\n",
       "        vertical-align: top;\n",
       "    }\n",
       "\n",
       "    .dataframe thead th {\n",
       "        text-align: right;\n",
       "    }\n",
       "</style>\n",
       "<table border=\"1\" class=\"dataframe\">\n",
       "  <thead>\n",
       "    <tr style=\"text-align: right;\">\n",
       "      <th></th>\n",
       "      <th>sex</th>\n",
       "      <th>studytime</th>\n",
       "      <th>G1</th>\n",
       "      <th>G2</th>\n",
       "      <th>G3</th>\n",
       "    </tr>\n",
       "  </thead>\n",
       "  <tbody>\n",
       "    <tr>\n",
       "      <th>0</th>\n",
       "      <td>F</td>\n",
       "      <td>2</td>\n",
       "      <td>10</td>\n",
       "      <td>12</td>\n",
       "      <td>14</td>\n",
       "    </tr>\n",
       "    <tr>\n",
       "      <th>1</th>\n",
       "      <td>M</td>\n",
       "      <td>3</td>\n",
       "      <td>11</td>\n",
       "      <td>13</td>\n",
       "      <td>15</td>\n",
       "    </tr>\n",
       "    <tr>\n",
       "      <th>2</th>\n",
       "      <td>F</td>\n",
       "      <td>1</td>\n",
       "      <td>9</td>\n",
       "      <td>10</td>\n",
       "      <td>11</td>\n",
       "    </tr>\n",
       "    <tr>\n",
       "      <th>3</th>\n",
       "      <td>M</td>\n",
       "      <td>2</td>\n",
       "      <td>14</td>\n",
       "      <td>15</td>\n",
       "      <td>16</td>\n",
       "    </tr>\n",
       "    <tr>\n",
       "      <th>4</th>\n",
       "      <td>F</td>\n",
       "      <td>4</td>\n",
       "      <td>12</td>\n",
       "      <td>13</td>\n",
       "      <td>15</td>\n",
       "    </tr>\n",
       "  </tbody>\n",
       "</table>\n",
       "</div>"
      ],
      "text/plain": [
       "  sex  studytime  G1  G2  G3\n",
       "0   F          2  10  12  14\n",
       "1   M          3  11  13  15\n",
       "2   F          1   9  10  11\n",
       "3   M          2  14  15  16\n",
       "4   F          4  12  13  15"
      ]
     },
     "execution_count": 2,
     "metadata": {},
     "output_type": "execute_result"
    }
   ],
   "source": [
    "df = pd.read_csv(\"student-mat.csv\")\n",
    "df.head()"
   ]
  },
  {
   "cell_type": "markdown",
   "id": "76f278dd",
   "metadata": {},
   "source": [
    "## Step 4: Explore the Data\n",
    "Check for missing values, data types, and shape of the dataset."
   ]
  },
  {
   "cell_type": "code",
   "execution_count": 3,
   "id": "2a64517f",
   "metadata": {},
   "outputs": [
    {
     "data": {
      "text/plain": [
       "(7, 5)"
      ]
     },
     "execution_count": 3,
     "metadata": {},
     "output_type": "execute_result"
    }
   ],
   "source": [
    "df.isnull().sum()\n",
    "df.dtypes\n",
    "df.shape"
   ]
  },
  {
   "cell_type": "markdown",
   "id": "1daf9788",
   "metadata": {},
   "source": [
    "## Step 5: Clean the Data\n",
    "Remove duplicates and handle missing values (if any)."
   ]
  },
  {
   "cell_type": "code",
   "execution_count": 4,
   "id": "405ba9cb",
   "metadata": {},
   "outputs": [],
   "source": [
    "df = df.drop_duplicates()\n",
    "df = df.fillna(df.median(numeric_only=True))"
   ]
  },
  {
   "cell_type": "markdown",
   "id": "12bae24e",
   "metadata": {},
   "source": [
    "## Step 6: Answer Data Analysis Questions"
   ]
  },
  {
   "cell_type": "code",
   "execution_count": 5,
   "id": "f3a9e662",
   "metadata": {},
   "outputs": [
    {
     "name": "stdout",
     "output_type": "stream",
     "text": [
      "Average Final Grade (G3): 14.142857142857142\n"
     ]
    }
   ],
   "source": [
    "#1.Average final grade(G3)?\n",
    "avg_g3 = np.mean(df['G3'])\n",
    "print(\"Average Final Grade (G3):\", avg_g3)"
   ]
  },
  {
   "cell_type": "code",
   "execution_count": 6,
   "id": "e12db2d7",
   "metadata": {},
   "outputs": [
    {
     "name": "stdout",
     "output_type": "stream",
     "text": [
      "Students with G3 > 15: 2\n"
     ]
    }
   ],
   "source": [
    "#2.How many students scored above 15 in G3?\n",
    "above_15 = df[df['G3'] > 15].shape[0]\n",
    "print(\"Students with G3 > 15:\", above_15)"
   ]
  },
  {
   "cell_type": "code",
   "execution_count": 7,
   "id": "73244164",
   "metadata": {},
   "outputs": [
    {
     "name": "stdout",
     "output_type": "stream",
     "text": [
      "Correlation between study time and G3: 0.7350766701980266\n"
     ]
    }
   ],
   "source": [
    "#Correlation between study time and G3\n",
    "correlation = np.corrcoef(df['studytime'], df['G3'])[0, 1]\n",
    "print(\"Correlation between study time and G3:\", correlation)"
   ]
  },
  {
   "cell_type": "code",
   "execution_count": 8,
   "id": "0fddc087",
   "metadata": {},
   "outputs": [
    {
     "name": "stdout",
     "output_type": "stream",
     "text": [
      "Average G3 by Gender:\n",
      " sex\n",
      "F    14.500000\n",
      "M    13.666667\n",
      "Name: G3, dtype: float64\n"
     ]
    }
   ],
   "source": [
    "#4.Which gender has higher average G3?\n",
    "gender_avg = df.groupby('sex')['G3'].mean()\n",
    "print(\"Average G3 by Gender:\\n\", gender_avg)"
   ]
  },
  {
   "cell_type": "markdown",
   "id": "31b09d9d",
   "metadata": {},
   "source": [
    "## Step 7: Data Visualizations"
   ]
  },
  {
   "cell_type": "code",
   "execution_count": 9,
   "id": "a8062fa4",
   "metadata": {},
   "outputs": [
    {
     "data": {
      "image/png": "[encoded data removed]",
      "text/plain": [
       "<Figure size 640x480 with 1 Axes>"
      ]
     },
     "metadata": {},
     "output_type": "display_data"
    }
   ],
   "source": [
    "#1.Histogram\n",
    "plt.hist(df['G3'], bins=10, color='skyblue', edgecolor='black')\n",
    "plt.title(\"Distribution of Final Grades (G3)\")\n",
    "plt.xlabel(\"Final Grade\")\n",
    "plt.ylabel(\"Number of Students\")\n",
    "plt.show()"
   ]
  },
  {
   "cell_type": "code",
   "execution_count": 10,
   "id": "3befdfcb",
   "metadata": {},
   "outputs": [
    {
     "data": {
      "image/png": "[encoded data removed]",
      "text/plain": [
       "<Figure size 640x480 with 1 Axes>"
      ]
     },
     "metadata": {},
     "output_type": "display_data"
    }
   ],
   "source": [
    "#2.Scatter Plot\n",
    "plt.scatter(df['studytime'], df['G3'], color='green', alpha=0.6)\n",
    "plt.title(\"Study Time vs Final Grade\")\n",
    "plt.xlabel(\"Study Time (hrs/week)\")\n",
    "plt.ylabel(\"G3\")\n",
    "plt.show()"
   ]
  },
  {
   "cell_type": "code",
   "execution_count": 11,
   "id": "05956706",
   "metadata": {},
   "outputs": [
    {
     "name": "stderr",
     "output_type": "stream",
     "text": [
      "C:\\Users\\Himan\\AppData\\Local\\Temp\\ipykernel_27600\\2948893457.py:2: FutureWarning: \n",
      "\n",
      "Passing `palette` without assigning `hue` is deprecated and will be removed in v0.14.0. Assign the `x` variable to `hue` and set `legend=False` for the same effect.\n",
      "\n",
      "  sns.barplot(x=gender_avg.index, y=gender_avg.values, palette=\"Set2\")\n"
     ]
    },
    {
     "data": {
      "image/png": "[encoded data removed]",
      "text/plain": [
       "<Figure size 640x480 with 1 Axes>"
      ]
     },
     "metadata": {},
     "output_type": "display_data"
    }
   ],
   "source": [
    "#3.Bar chart by gender\n",
    "sns.barplot(x=gender_avg.index, y=gender_avg.values, palette=\"Set2\")\n",
    "plt.title(\"Average Final Grade by Gender\")\n",
    "plt.xlabel(\"Gender\")\n",
    "plt.ylabel(\"Average G3\")\n",
    "plt.show()"
   ]
  },
  {
   "cell_type": "markdown",
   "id": "1f5a0f42",
   "metadata": {},
   "source": [
    "## Step 8: Conclusion\n",
    "\n",
    "- The average G3 score is around **X.X**\n",
    "- **Y** students scored above 15\n",
    "- There is a **[positive/negative/weak] correlation** between study time and grades\n",
    "- On average, **[male/female]** students performed better\n",
    "\n",
    "This project helped explore basic data analysis skills using pandas, NumPy, and visualization libraries.\n"
   ]
  }
 ],
 "metadata": {
  "kernelspec": {
   "display_name": "Python 3",
   "language": "python",
   "name": "python3"
  },
  "language_info": {
   "codemirror_mode": {
    "name": "ipython",
    "version": 3
   },
   "file_extension": ".py",
   "mimetype": "text/x-python",
   "name": "python",
   "nbconvert_exporter": "python",
   "pygments_lexer": "ipython3",
   "version": "3.13.2"
  }
 },
 "nbformat": 4,
 "nbformat_minor": 5
}
